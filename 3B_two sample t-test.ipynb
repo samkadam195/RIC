{
 "cells": [
  {
   "cell_type": "code",
   "execution_count": 10,
   "id": "3af12ea5",
   "metadata": {},
   "outputs": [
    {
     "name": "stdout",
     "output_type": "stream",
     "text": [
      "t = -0.6277766369609643\n",
      "p = 1.4660950353884334\n",
      "Mean of two distribution are same and not significant\n"
     ]
    }
   ],
   "source": [
    "import numpy as np \n",
    "from scipy import stats\n",
    "from numpy.random import randn \n",
    "#N = 20\n",
    "# a = [35,40,12,15,21,14,46,10,28,48,16,30, 32,48,31,22,12,39,19,25]\n",
    "# b = [2,27,31,38,1,19,1,34,3,1,2,1,3,1,2,1,3,29,37,2]\n",
    "a = 5 * randn(100) + 50 \n",
    "b = 5 * randn(100) + 51 \n",
    "var_a = a.var(ddof=1) \n",
    "var_b = b.var(ddof=1)\n",
    "\n",
    "s = np.sqrt((var_a + var_b)/2)\n",
    "t = (a.mean() - b.mean())/(s*np.sqrt(2/N))\n",
    "\n",
    "df = 2*N - 2\n",
    "p = 1 - stats.t.cdf(t,df=df)\n",
    "\n",
    "print(\"t = \" + str(t)) \n",
    "print(\"p = \" + str(2*p)) \n",
    "if t> p :\n",
    "    print('Mean of two distribution are differnt and significant')\n",
    "else:\n",
    "    print('Mean of two distribution are same and not significant')\n"
   ]
  }
 ],
 "metadata": {
  "kernelspec": {
   "display_name": "Python 3 (ipykernel)",
   "language": "python",
   "name": "python3"
  },
  "language_info": {
   "codemirror_mode": {
    "name": "ipython",
    "version": 3
   },
   "file_extension": ".py",
   "mimetype": "text/x-python",
   "name": "python",
   "nbconvert_exporter": "python",
   "pygments_lexer": "ipython3",
   "version": "3.9.13"
  }
 },
 "nbformat": 4,
 "nbformat_minor": 5
}
