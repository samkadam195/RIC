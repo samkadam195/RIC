{
 "cells": [
  {
   "cell_type": "code",
   "execution_count": 1,
   "id": "61a6a4c1",
   "metadata": {},
   "outputs": [
    {
     "name": "stdout",
     "output_type": "stream",
     "text": [
      "Loading : C:/VKHCG/01-Vermeulen/01-Retrieve/01-EDS/02-Python/Retrieve_IP_DATA.csv\n",
      "Storing : C:/VKHCG/01-Vermeulen/00-RawData/SQLite/vermeulen.db  Table: IP_DATA_ALL\n",
      "Loading : C:/VKHCG/01-Vermeulen/00-RawData/SQLite/vermeulen.db  Table: IP_DATA_ALL\n",
      "################\n",
      "## Data Values\n",
      "################\n",
      "         RowIDCSV    RowID Country    Place.Name Post.Code  Latitude  \\\n",
      "0               0        1      BW      Gaborone      None  -24.6464   \n",
      "1               1        2      BW      Gaborone      None  -24.6464   \n",
      "2               2        3      BW      Gaborone      None  -24.6464   \n",
      "3               3        4      BW      Gaborone      None  -24.6464   \n",
      "4               4        5      BW      Gaborone      None  -24.6464   \n",
      "...           ...      ...     ...           ...       ...       ...   \n",
      "1247497   1247497  1247498      CA   Mississauga   l5n 0b9   43.5924   \n",
      "1247498   1247498  1247499      DE     Frankfurt     60386   50.1327   \n",
      "1247499   1247499  1247500      RU  Pyatigorskiy    357355   43.9742   \n",
      "1247500   1247500  1247501      CA     Kitchener   n2c 1x3   43.4182   \n",
      "1247501   1247501  1247502      JP         Tokyo  214-0039   35.6116   \n",
      "\n",
      "         Longitude  \n",
      "0          25.9119  \n",
      "1          25.9119  \n",
      "2          25.9119  \n",
      "3          25.9119  \n",
      "4          25.9119  \n",
      "...            ...  \n",
      "1247497   -79.7611  \n",
      "1247498     8.7668  \n",
      "1247499    43.2583  \n",
      "1247500   -80.4451  \n",
      "1247501   139.5357  \n",
      "\n",
      "[1247502 rows x 7 columns]\n",
      "################\n",
      "## Data Profile\n",
      "################\n",
      "Rows : 1247502\n",
      "Columns : 7\n",
      "################\n"
     ]
    }
   ],
   "source": [
    "import sqlite3 as sq \n",
    "import pandas as pd\n",
    "#########################################################c####### \n",
    "sDatabaseName='C:/VKHCG/01-Vermeulen/00-RawData/SQLite/vermeulen.db' \n",
    "conn = sq.connect(sDatabaseName) \n",
    "################################################################\n",
    "sFileName='C:/VKHCG/01-Vermeulen/01-Retrieve/01-EDS/02-Python/Retrieve_IP_DATA.csv' \n",
    "print('Loading :',sFileName) \n",
    "IP_DATA_ALL_FIX=pd.read_csv(sFileName,low_memory=False) \n",
    "IP_DATA_ALL_FIX.index.names = ['RowIDCSV']\n",
    "sTable='IP_DATA_ALL'\n",
    "print('Storing :',sDatabaseName,' Table:',sTable) \n",
    "IP_DATA_ALL_FIX.to_sql(sTable, conn, if_exists=\"replace\") \n",
    "print('Loading :',sDatabaseName,' Table:',sTable) \n",
    "TestData=pd.read_sql_query(\"select * from IP_DATA_ALL;\", conn) \n",
    "print('################')\n",
    "print('## Data Values') \n",
    "print('################')\n",
    "print(TestData) \n",
    "print('################')\n",
    "print('## Data Profile') \n",
    "print('################')\n",
    "print('Rows :',TestData.shape[0]) \n",
    "print('Columns :',TestData.shape[1]) \n",
    "print('################')\n"
   ]
  }
 ],
 "metadata": {
  "kernelspec": {
   "display_name": "Python 3 (ipykernel)",
   "language": "python",
   "name": "python3"
  },
  "language_info": {
   "codemirror_mode": {
    "name": "ipython",
    "version": 3
   },
   "file_extension": ".py",
   "mimetype": "text/x-python",
   "name": "python",
   "nbconvert_exporter": "python",
   "pygments_lexer": "ipython3",
   "version": "3.9.13"
  }
 },
 "nbformat": 4,
 "nbformat_minor": 5
}
